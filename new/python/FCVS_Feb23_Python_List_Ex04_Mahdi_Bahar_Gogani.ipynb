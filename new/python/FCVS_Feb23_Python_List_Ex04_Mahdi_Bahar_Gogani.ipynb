{
 "cells": [
  {
   "cell_type": "markdown",
   "id": "a48602a2",
   "metadata": {},
   "source": [
    "# Practice 4"
   ]
  },
  {
   "cell_type": "markdown",
   "id": "14faebd2",
   "metadata": {},
   "source": [
    "# List"
   ]
  },
  {
   "cell_type": "markdown",
   "id": "4e966051",
   "metadata": {},
   "source": [
    "### Exersice 1: Working on the following list"
   ]
  },
  {
   "cell_type": "code",
   "execution_count": 54,
   "id": "d3741431",
   "metadata": {},
   "outputs": [],
   "source": [
    "ages= [19, 22, 19, 24, 20, 25, 26, 24, 25, 24]"
   ]
  },
  {
   "cell_type": "markdown",
   "id": "aadf38e2",
   "metadata": {},
   "source": [
    "### 1. Sort the list and get  min and max"
   ]
  },
  {
   "cell_type": "code",
   "execution_count": 55,
   "id": "5ea7cdac",
   "metadata": {},
   "outputs": [],
   "source": [
    "ages_sorted = sorted(ages)"
   ]
  },
  {
   "cell_type": "code",
   "execution_count": 56,
   "id": "3afa3b96",
   "metadata": {},
   "outputs": [
    {
     "data": {
      "text/plain": [
       "[19, 19, 20, 22, 24, 24, 24, 25, 25, 26]"
      ]
     },
     "execution_count": 56,
     "metadata": {},
     "output_type": "execute_result"
    }
   ],
   "source": [
    "ages_sorted"
   ]
  },
  {
   "cell_type": "code",
   "execution_count": 57,
   "id": "0c3c8409",
   "metadata": {},
   "outputs": [
    {
     "data": {
      "text/plain": [
       "(19, 26)"
      ]
     },
     "execution_count": 57,
     "metadata": {},
     "output_type": "execute_result"
    }
   ],
   "source": [
    "Min = ages_sorted[0]\n",
    "Max = ages_sorted[-1]\n",
    "Min , Max"
   ]
  },
  {
   "cell_type": "code",
   "execution_count": 58,
   "id": "15bb5dbc",
   "metadata": {},
   "outputs": [],
   "source": [
    "# del --> index / pop--> last element / remove--> element\n"
   ]
  },
  {
   "cell_type": "markdown",
   "id": "31e37e7f",
   "metadata": {},
   "source": [
    "###  2 : Add min and max to the sorted list"
   ]
  },
  {
   "cell_type": "code",
   "execution_count": 59,
   "id": "cb10a1fc",
   "metadata": {},
   "outputs": [
    {
     "data": {
      "text/plain": [
       "[19, 19, 19, 20, 22, 24, 24, 24, 25, 25, 26, 26]"
      ]
     },
     "execution_count": 59,
     "metadata": {},
     "output_type": "execute_result"
    }
   ],
   "source": [
    "ages_sorted.insert(0,Min)\n",
    "ages_sorted.append(Max)\n",
    "###----------------------------------\n",
    "## Or\n",
    "# ages_sorted.extend([Min,Max])\n",
    "# ages_sorted.sort()\n",
    "\n",
    "ages_sorted"
   ]
  },
  {
   "cell_type": "markdown",
   "id": "37ea2e8f",
   "metadata": {},
   "source": [
    "###  3. Find Median age in the new list"
   ]
  },
  {
   "cell_type": "markdown",
   "id": "8e016d65",
   "metadata": {},
   "source": [
    "##### Using statistics"
   ]
  },
  {
   "cell_type": "code",
   "execution_count": 60,
   "id": "27fd03d7",
   "metadata": {},
   "outputs": [
    {
     "data": {
      "text/plain": [
       "24.0"
      ]
     },
     "execution_count": 60,
     "metadata": {},
     "output_type": "execute_result"
    }
   ],
   "source": [
    "from statistics import median\n",
    "median(ages_sorted)"
   ]
  },
  {
   "cell_type": "markdown",
   "id": "cb487535",
   "metadata": {},
   "source": [
    "### 4. Find the average age"
   ]
  },
  {
   "cell_type": "code",
   "execution_count": 69,
   "id": "9d212d7d",
   "metadata": {},
   "outputs": [
    {
     "name": "stdout",
     "output_type": "stream",
     "text": [
      "Sum = 273, len = 12 and average = 22.75 \n"
     ]
    }
   ],
   "source": [
    "s= sum(ages_sorted)\n",
    "l= len(ages_sorted)\n",
    "avg= s/l\n",
    "print(\"Sum = {}, len = {} and average = {} \".format(s,l,avg))"
   ]
  },
  {
   "cell_type": "markdown",
   "id": "daaddd0c",
   "metadata": {},
   "source": [
    "### 5. Find the range"
   ]
  },
  {
   "cell_type": "code",
   "execution_count": 68,
   "id": "5434db16",
   "metadata": {},
   "outputs": [
    {
     "name": "stdout",
     "output_type": "stream",
     "text": [
      "range of the age is 7\n"
     ]
    }
   ],
   "source": [
    "Min_new = ages_sorted[0]\n",
    "Max_new = ages_sorted[-1]\n",
    "rg = Max_new - Min_new\n",
    "print(f'range of the age is {rg}')"
   ]
  },
  {
   "cell_type": "markdown",
   "id": "de7f0fc9",
   "metadata": {},
   "source": [
    "### 6. comparing"
   ]
  },
  {
   "cell_type": "code",
   "execution_count": 73,
   "id": "bf0afadf",
   "metadata": {},
   "outputs": [
    {
     "name": "stdout",
     "output_type": "stream",
     "text": [
      "(min-average = 3.75) is larger than (max-average = 3.25)\n"
     ]
    }
   ],
   "source": [
    "min_avg = abs(Min_new - avg)\n",
    "max_avg = abs(Max_new - avg)\n",
    "if min_avg > max_avg:\n",
    "    print(f\"(min-average = {min_avg}) is larger than (max-average = {max_avg})\")\n",
    "elif min_avg == max_avg:\n",
    "    print(f\"(min-average = {min_avg}) is equal to (max-average = {max_avg})\")\n",
    "else:\n",
    "    print(f\"(min-average = {min_avg}) is smaller than (max-average = {max_avg})\")"
   ]
  },
  {
   "cell_type": "code",
   "execution_count": null,
   "id": "ac6d2821",
   "metadata": {},
   "outputs": [],
   "source": []
  }
 ],
 "metadata": {
  "kernelspec": {
   "display_name": "Python 3 (ipykernel)",
   "language": "python",
   "name": "python3"
  },
  "language_info": {
   "codemirror_mode": {
    "name": "ipython",
    "version": 3
   },
   "file_extension": ".py",
   "mimetype": "text/x-python",
   "name": "python",
   "nbconvert_exporter": "python",
   "pygments_lexer": "ipython3",
   "version": "3.9.12"
  }
 },
 "nbformat": 4,
 "nbformat_minor": 5
}
